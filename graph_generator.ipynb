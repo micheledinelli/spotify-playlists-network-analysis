{
 "cells": [
  {
   "cell_type": "code",
   "execution_count": null,
   "id": "c5ec173f",
   "metadata": {},
   "outputs": [
    {
     "name": "stderr",
     "output_type": "stream",
     "text": [
      "/Users/micheledinelli/github/sna/venv/lib/python3.13/site-packages/networkx/readwrite/json_graph/node_link.py:142: FutureWarning: \n",
      "The default value will be `edges=\"edges\" in NetworkX 3.6.\n",
      "\n",
      "To make this warning go away, explicitly set the edges kwarg, e.g.:\n",
      "\n",
      "  nx.node_link_data(G, edges=\"links\") to preserve current behavior, or\n",
      "  nx.node_link_data(G, edges=\"edges\") for forward compatibility.\n",
      "  warnings.warn(\n"
     ]
    }
   ],
   "source": [
    "import sys\n",
    "sys.path.append('../')\n",
    "\n",
    "import networkx as nx\n",
    "import json\n",
    "from networkx.readwrite import json_graph\n",
    "import utils\n",
    "\n",
    "G = utils.load_network(\"../data/network.pkl\")\n",
    "\n",
    "# keep only the top 100 nodes\n",
    "top_nodes = sorted(G.degree, key=lambda x: x[1], reverse=True)[:100]\n",
    "top_nodes = [node for node, _ in top_nodes]\n",
    "subg = G.subgraph(top_nodes)\n",
    "\n",
    "# remove edges with low co-occurrence for the sake of visualization\n",
    "subg = nx.Graph(subg)\n",
    "edges_to_remove = [(u, v) for u, v, d in subg.edges(data=True) if d['weight'] < 5]\n",
    "subg.remove_edges_from(edges_to_remove)\n",
    "\n",
    "# remove isolated nodes\n",
    "isolated_nodes = list(nx.isolates(subg))\n",
    "subg.remove_nodes_from(isolated_nodes)\n",
    "\n",
    "data = json_graph.node_link_data(subg)\n",
    "\n",
    "with open(\"graph.json\", \"w\") as f:\n",
    "    json.dump(data, f)"
   ]
  }
 ],
 "metadata": {
  "kernelspec": {
   "display_name": "venv",
   "language": "python",
   "name": "python3"
  },
  "language_info": {
   "codemirror_mode": {
    "name": "ipython",
    "version": 3
   },
   "file_extension": ".py",
   "mimetype": "text/x-python",
   "name": "python",
   "nbconvert_exporter": "python",
   "pygments_lexer": "ipython3",
   "version": "3.13.1"
  }
 },
 "nbformat": 4,
 "nbformat_minor": 5
}
